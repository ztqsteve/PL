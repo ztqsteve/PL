{
 "cells": [
  {
   "cell_type": "code",
   "execution_count": 1,
   "metadata": {},
   "outputs": [],
   "source": [
    "import pandas as pd\n",
    "import os\n",
    "import zipfile\n",
    "from pandas import ExcelWriter\n",
    "import numpy as np"
   ]
  },
  {
   "cell_type": "code",
   "execution_count": 2,
   "metadata": {},
   "outputs": [],
   "source": [
    "# Please assign the following variables\n",
    "category_name = ''\n",
    "workbook_name = '' # excel file name eventually output\n",
    "year = ['','']"
   ]
  },
  {
   "cell_type": "code",
   "execution_count": 3,
   "metadata": {},
   "outputs": [],
   "source": [
    "relevant_path = os.getcwd()\n",
    "ext = 'zip'\n",
    "file_names = []\n",
    "for fn in os.listdir(relevant_path):\n",
    "    if fn.endswith(ext):\n",
    "        file_names.append(fn)\n",
    "\n",
    "# unzip the data we download\n",
    "for file in file_names:   \n",
    "    with zipfile.ZipFile(file,\"r\") as zip_ref:\n",
    "        zip_ref.extractall(relevant_path)"
   ]
  },
  {
   "cell_type": "code",
   "execution_count": 4,
   "metadata": {},
   "outputs": [],
   "source": [
    "lwd = ''\n",
    "for wd in os.getcwd().split('\\\\')[:-1]:\n",
    "    lwd = lwd + '\\\\' + wd\n",
    "lwd = lwd.lstrip('\\\\')\n",
    "\n",
    "zcta_state_mapping_file = 'zcta_state_mapping.csv'\n",
    "zcta_state_mapping = pd.read_csv(lwd + '\\\\' + zcta_state_mapping_file)\n",
    "\n",
    "zcta_zip_mapping_file = 'zip_to_zcta_2017.xlsx'\n",
    "zcta_zip_mapping = pd.read_excel(lwd + '\\\\' + zcta_zip_mapping_file)\n",
    "\n",
    "zcta_zip_mapping = zcta_zip_mapping[['ZIP_CODE','ZCTA']]\n",
    "\n",
    "zcta_zip_mapping = zcta_zip_mapping.rename(columns={'ZCTA':'ZCTA5',\n",
    "                                'ZIP_CODE':'ZIP'})\n",
    "zcta_zip_mapping['ZIP'] = zcta_zip_mapping['ZIP'].astype(str).str.zfill(5)\n",
    "zcta_state_zip_mapping = zcta_state_mapping.merge(zcta_zip_mapping, how='left', on='ZCTA5')\n",
    "\n",
    "zcta_state_zip_mapping[['ZCTA5','ZIP']] = zcta_state_zip_mapping[['ZCTA5','ZIP']].astype(str)\n",
    "\n",
    "zcta_state_zip_mapping['ZCTA5'] = zcta_state_zip_mapping['ZCTA5'].str.zfill(5)\n",
    "zcta_state_zip_mapping['ZIP'] = zcta_state_zip_mapping['ZIP'].str.zfill(5)"
   ]
  },
  {
   "cell_type": "code",
   "execution_count": 5,
   "metadata": {},
   "outputs": [],
   "source": [
    "# The following code is for selecting the 'estimate' variable then generate a csv file. Use the csv file to update 'Mapping Table\n",
    "# With Source'.\n",
    "####################### Code Below ##########################################\n",
    "\n",
    "# metadata = [] \n",
    "# for f in os.listdir(relevant_path):\n",
    "#     if f.endswith('metadata.csv'):\n",
    "#         metadata.append(f)\n",
    "# var_name = pd.read_csv(metadata[0])\n",
    "# var_name = var_name.iloc[2:]\n",
    "# var_name = var_name[var_name['GEO.id'].str.contains('EST')]\n",
    "#var_name.to_csv('var_name.csv',index=False)"
   ]
  },
  {
   "cell_type": "code",
   "execution_count": 11,
   "metadata": {},
   "outputs": [],
   "source": [
    "var_mapping_file = 'Mapping Table With Source.xlsx'\n",
    "var_mapping = pd.read_excel(lwd + '\\\\' + var_mapping_file)\n",
    "\n",
    "var_mapping = var_mapping[var_mapping['Level 1'] == category_name]\n",
    "var_mapping = var_mapping[['Variable Code','GEO.id']]"
   ]
  },
  {
   "cell_type": "code",
   "execution_count": 12,
   "metadata": {},
   "outputs": [],
   "source": [
    "d = {}\n",
    "d.update(zip(var_mapping['GEO.id'],var_mapping['Variable Code']))"
   ]
  },
  {
   "cell_type": "code",
   "execution_count": 13,
   "metadata": {},
   "outputs": [
    {
     "name": "stderr",
     "output_type": "stream",
     "text": [
      "C:\\Users\\PL_DELL3688_TWO\\Anaconda3\\lib\\site-packages\\IPython\\core\\interactiveshell.py:2728: DtypeWarning: Columns (1,3,4,5,6,9,10,11,12,15,16,17,18,21,22,23,24,27,28,29,30,33,34,35,36,39,40,41,42,45,46,47,48,51,52,53,54,57,58,59,60,63,64,65,66,69,70,71,72,75,76,77,78,81,82,83,84,87,88,89,90,93,94,95,96,99,100,101,102,105,106,107,108,113,114,117,118,119,120,123,124,125,126,129,130,131,132,135,136,137,138,141,142,143,144,147,148,149,150,153,154,155,156,159,160,161,162,165,166,167,168,173,174,177,178,179,180,183,184,185,186,189,190,191,192,195,196,197,198,201,202,203,204,207,208,209,210,213,214,215,216,219,220,221,222,225,226,227,228,233,234,237,238,239,240,243,244,245,246,249,250,251,252,255,256,257,258,261,262,263,264,267,268,269,270,273,274,275,276,281,282,285,286,287,288,291,292,293,294,297,298,299,300,303,304,305,306,309,310,311,312,315,316,317,318,321,322,323,324,329,330,333,334,335,336,339,340,341,342,345,346,347,348,351,352,353,354,357,358,359,360,363,364,365,366,369,370,371,372,377,378,381,382,383,384,387,388,389,390,393,394,395,396,399,400,401,402,405,406,407,408,411,412,413,414) have mixed types. Specify dtype option on import or set low_memory=False.\n",
      "  interactivity=interactivity, compiler=compiler, result=result)\n"
     ]
    }
   ],
   "source": [
    "# read file year by year\n",
    "file_names = []\n",
    "for fn in os.listdir(relevant_path):\n",
    "    if fn.endswith('ann.csv'):\n",
    "        file_names.append(fn)\n",
    "\n",
    "year_data = []\n",
    "\n",
    "for f in file_names:\n",
    "    year_data.append(pd.read_csv(f))"
   ]
  },
  {
   "cell_type": "code",
   "execution_count": 14,
   "metadata": {},
   "outputs": [],
   "source": [
    "def processRawData(df):\n",
    "    \n",
    "    # select the columns we need\n",
    "    for colname in df.columns[3:]:\n",
    "        if sum(var_mapping['GEO.id'].str.contains(colname)) == 0:\n",
    "            df = df.drop(colname,axis=1)\n",
    "\n",
    "    df.drop(['GEO.id','GEO.display-label'], axis=1, inplace=True)\n",
    "    df = df.rename(columns={'GEO.id2':'ZCTA5'})\n",
    "    df['ZCTA5'] = df['ZCTA5'].astype(str)\n",
    "    df = df.merge(zcta_state_zip_mapping, how='left', on='ZCTA5')\n",
    "    # change column order\n",
    "    col = df.columns.tolist()\n",
    "    col = col[-2:] + col[:-2]\n",
    "    df = df[col]\n",
    "\n",
    "    df = df.drop('ZCTA5',axis=1)\n",
    "    df = df.drop(index=df[df.ZIP.isnull()].index[1:],axis=0)\n",
    "    df.iloc[0,0] = 'State'\n",
    "    df.iloc[0,1] = 'ZIP'\n",
    "\n",
    "    # update column names using variable code\n",
    "    for cols in df.columns[2:]:\n",
    "        df = df.rename(columns={cols:d[cols]})\n",
    "\n",
    "    df = df.replace(['-','(X)','+'],np.nan)\n",
    "    df = df.rename(columns={'State':'',\n",
    "                                 'ZIP':''})\n",
    "    return(df)"
   ]
  },
  {
   "cell_type": "code",
   "execution_count": 15,
   "metadata": {},
   "outputs": [],
   "source": [
    "writer = ExcelWriter(workbook_name)"
   ]
  },
  {
   "cell_type": "code",
   "execution_count": 16,
   "metadata": {},
   "outputs": [],
   "source": [
    "for df,y in zip(year_data,year):\n",
    "    data = processRawData(df)\n",
    "    data.to_excel(writer, y, index=False)"
   ]
  },
  {
   "cell_type": "code",
   "execution_count": 17,
   "metadata": {},
   "outputs": [],
   "source": [
    "writer.save()"
   ]
  },
  {
   "cell_type": "code",
   "execution_count": null,
   "metadata": {},
   "outputs": [],
   "source": []
  }
 ],
 "metadata": {
  "kernelspec": {
   "display_name": "Python 3",
   "language": "python",
   "name": "python3"
  },
  "language_info": {
   "codemirror_mode": {
    "name": "ipython",
    "version": 3
   },
   "file_extension": ".py",
   "mimetype": "text/x-python",
   "name": "python",
   "nbconvert_exporter": "python",
   "pygments_lexer": "ipython3",
   "version": "3.6.4"
  }
 },
 "nbformat": 4,
 "nbformat_minor": 2
}
